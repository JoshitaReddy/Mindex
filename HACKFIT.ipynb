{
  "nbformat": 4,
  "nbformat_minor": 0,
  "metadata": {
    "colab": {
      "name": "HACKFIT.ipynb",
      "provenance": [],
      "collapsed_sections": [],
      "include_colab_link": true
    },
    "kernelspec": {
      "name": "python3",
      "display_name": "Python 3"
    },
    "language_info": {
      "name": "python"
    }
  },
  "cells": [
    {
      "cell_type": "markdown",
      "metadata": {
        "id": "view-in-github",
        "colab_type": "text"
      },
      "source": [
        "<a href=\"https://colab.research.google.com/github/JoshitaReddy/burnout/blob/main/HACKFIT.ipynb\" target=\"_parent\"><img src=\"https://colab.research.google.com/assets/colab-badge.svg\" alt=\"Open In Colab\"/></a>"
      ]
    },
    {
      "cell_type": "markdown",
      "metadata": {
        "id": "YTX1-EDaJXTe"
      },
      "source": [
        "#Importing Libraries"
      ]
    },
    {
      "cell_type": "code",
      "metadata": {
        "id": "_gTDZ0JMHpB4"
      },
      "source": [
        "import numpy as np\n",
        "import pandas as pd\n",
        "from sklearn.model_selection import train_test_split\n",
        "from sklearn.preprocessing import StandardScaler\n",
        "from sklearn.ensemble import RandomForestRegressor\n",
        "import joblib\n",
        "\n",
        "import warnings\n",
        "warnings.filterwarnings(action='ignore')\n"
      ],
      "execution_count": 9,
      "outputs": []
    },
    {
      "cell_type": "markdown",
      "metadata": {
        "id": "D8BTjDfTJhCO"
      },
      "source": [
        "#Reading the Dataset"
      ]
    },
    {
      "cell_type": "code",
      "metadata": {
        "id": "uoA_BceyH5a7"
      },
      "source": [
        "data = pd.read_csv('train.csv')"
      ],
      "execution_count": 10,
      "outputs": []
    },
    {
      "cell_type": "markdown",
      "metadata": {
        "id": "iyyjEzulJvfu"
      },
      "source": [
        "#Pre-processing Data"
      ]
    },
    {
      "cell_type": "code",
      "metadata": {
        "id": "pttlvaH4ICZs"
      },
      "source": [
        "def preprocess_inputs(df):\n",
        "    df = df.copy()\n",
        "    \n",
        "    # Drop Employee ID column\n",
        "    df = df.drop('Employee ID', axis=1)\n",
        "    \n",
        "    # Drop rows with missing target values\n",
        "    missing_target_rows = df.loc[df['Burn Rate'].isna(), :].index\n",
        "    df = df.drop(missing_target_rows, axis=0).reset_index(drop=True)\n",
        "    \n",
        "    # Fill remaining missing values with column means\n",
        "    for column in ['Resource Allocation', 'Mental Fatigue Score']:\n",
        "        df[column] = df[column].fillna(df[column].mean())\n",
        "    \n",
        "    # Extract date features\n",
        "    df['Date of Joining'] = pd.to_datetime(df['Date of Joining'])\n",
        "    df['Join Month'] = df['Date of Joining'].apply(lambda x: x.month)\n",
        "    df['Join Day'] = df['Date of Joining'].apply(lambda x: x.day)\n",
        "    df = df.drop('Date of Joining', axis=1)\n",
        "    \n",
        "    # Binary encoding\n",
        "    df['Gender'] = df['Gender'].replace({'Female': 0, 'Male': 1})\n",
        "    df['Company Type'] = df['Company Type'].replace({'Product': 0, 'Service': 1})\n",
        "    df['WFH Setup Available'] = df['WFH Setup Available'].replace({'No': 0, 'Yes': 1})\n",
        "    \n",
        "    # Split df into X and y\n",
        "    y = df['Burn Rate']\n",
        "    X = df.drop('Burn Rate', axis=1)\n",
        "    \n",
        "    # Train-test split\n",
        "    X_train, X_test, y_train, y_test = train_test_split(X, y, train_size=0.7, shuffle=True, random_state=1)\n",
        "    \n",
        "    # Scale X\n",
        "    scaler = StandardScaler()\n",
        "    scaler.fit(X_train)\n",
        "    X_train = pd.DataFrame(scaler.transform(X_train), index=X_train.index, columns=X_train.columns)\n",
        "    X_test = pd.DataFrame(scaler.transform(X_test), index=X_test.index, columns=X_test.columns)\n",
        "    \n",
        "    return X_train, X_test, y_train, y_test"
      ],
      "execution_count": 11,
      "outputs": []
    },
    {
      "cell_type": "code",
      "metadata": {
        "id": "bDZqd6SMIGYc"
      },
      "source": [
        "X_train, X_test, y_train, y_test = preprocess_inputs(data)"
      ],
      "execution_count": 12,
      "outputs": []
    },
    {
      "cell_type": "code",
      "metadata": {
        "id": "rVQrJBfPZOSl",
        "colab": {
          "base_uri": "https://localhost:8080/"
        },
        "outputId": "4c28f4b2-da4f-4ce3-eb4b-e247e640340d"
      },
      "source": [
        "X_train.info()"
      ],
      "execution_count": 13,
      "outputs": [
        {
          "output_type": "stream",
          "name": "stdout",
          "text": [
            "<class 'pandas.core.frame.DataFrame'>\n",
            "Int64Index: 15138 entries, 8275 to 235\n",
            "Data columns (total 8 columns):\n",
            " #   Column                Non-Null Count  Dtype  \n",
            "---  ------                --------------  -----  \n",
            " 0   Gender                15138 non-null  float64\n",
            " 1   Company Type          15138 non-null  float64\n",
            " 2   WFH Setup Available   15138 non-null  float64\n",
            " 3   Designation           15138 non-null  float64\n",
            " 4   Resource Allocation   15138 non-null  float64\n",
            " 5   Mental Fatigue Score  15138 non-null  float64\n",
            " 6   Join Month            15138 non-null  float64\n",
            " 7   Join Day              15138 non-null  float64\n",
            "dtypes: float64(8)\n",
            "memory usage: 1.0 MB\n"
          ]
        }
      ]
    },
    {
      "cell_type": "markdown",
      "metadata": {
        "id": "Hxs_lXZNJ54X"
      },
      "source": [
        "#Applying Random Forest Regression"
      ]
    },
    {
      "cell_type": "code",
      "metadata": {
        "id": "cRl0PMXLIN70",
        "colab": {
          "base_uri": "https://localhost:8080/"
        },
        "outputId": "2b212435-9a58-4d76-8094-1873a8cb6efb"
      },
      "source": [
        "model=RandomForestRegressor()\n",
        "model.fit(X_train, y_train)"
      ],
      "execution_count": 14,
      "outputs": [
        {
          "output_type": "execute_result",
          "data": {
            "text/plain": [
              "RandomForestRegressor(bootstrap=True, ccp_alpha=0.0, criterion='mse',\n",
              "                      max_depth=None, max_features='auto', max_leaf_nodes=None,\n",
              "                      max_samples=None, min_impurity_decrease=0.0,\n",
              "                      min_impurity_split=None, min_samples_leaf=1,\n",
              "                      min_samples_split=2, min_weight_fraction_leaf=0.0,\n",
              "                      n_estimators=100, n_jobs=None, oob_score=False,\n",
              "                      random_state=None, verbose=0, warm_start=False)"
            ]
          },
          "metadata": {},
          "execution_count": 14
        }
      ]
    },
    {
      "cell_type": "markdown",
      "metadata": {
        "id": "YdphzG3jJ_75"
      },
      "source": [
        "##Calculating R^2 Score"
      ]
    },
    {
      "cell_type": "code",
      "metadata": {
        "id": "m69gy4eNIQJE",
        "colab": {
          "base_uri": "https://localhost:8080/"
        },
        "outputId": "f89b3579-ba29-44cb-9af6-be93dac9a5ac"
      },
      "source": [
        "print(\"R^2 Score: {:.2f}\".format(model.score(X_test, y_test)))"
      ],
      "execution_count": 15,
      "outputs": [
        {
          "output_type": "stream",
          "name": "stdout",
          "text": [
            "R^2 Score: 0.90\n"
          ]
        }
      ]
    },
    {
      "cell_type": "markdown",
      "metadata": {
        "id": "ZFijpDgkK-GV"
      },
      "source": [
        "#Saving the Model"
      ]
    },
    {
      "cell_type": "code",
      "metadata": {
        "id": "uA_MyNvsK1vi",
        "colab": {
          "base_uri": "https://localhost:8080/"
        },
        "outputId": "5c3573fb-87f2-4a45-db6e-7040031f7f51"
      },
      "source": [
        "joblib.dump(model, 'model.pkl')"
      ],
      "execution_count": 16,
      "outputs": [
        {
          "output_type": "execute_result",
          "data": {
            "text/plain": [
              "['model.pkl']"
            ]
          },
          "metadata": {},
          "execution_count": 16
        }
      ]
    },
    {
      "cell_type": "markdown",
      "metadata": {
        "id": "oHFCjymKKJoP"
      },
      "source": [
        "#Taking User Inputs"
      ]
    },
    {
      "cell_type": "code",
      "metadata": {
        "id": "VLoM5ieVUenv",
        "colab": {
          "base_uri": "https://localhost:8080/"
        },
        "outputId": "ef1daa38-da12-4826-9326-de970ba6b1bc"
      },
      "source": [
        "name=input('What should we call you? ')\n",
        "gender=input('What gender do you identify yourself as? ')\n",
        "company=input('What is kind of company do you work for? ')\n",
        "wfh=input('Do you work from home? ')\n",
        "designation=int(input('On a range of 0-5 what is your level of seniority in the company? '))\n",
        "hours=int(input('How many hours do you work on a daily basis? '))\n",
        "fatigue=input('On a scale of 1-10 how much tired are you everyday? ')\n",
        "print('When did you start working for this company? ')\n",
        "month=int(input('Month: '))\n",
        "day=int(input('Day: '))\n",
        "year=int(input('Year: '))"
      ],
      "execution_count": 17,
      "outputs": [
        {
          "name": "stdout",
          "output_type": "stream",
          "text": [
            "What should we call you? Joshita\n",
            "What gender do you identify yourself as? Female\n",
            "What is kind of company do you work for? Service\n",
            "Do you work from home? Yes\n",
            "On a range of 0-5 what is your level of seniority in the company? 3\n",
            "How many hours do you work on a daily basis? 7\n",
            "On a scale of 1-10 how much tired are you everyday? 6\n",
            "When did you start working for this company? \n",
            "Month: 09\n",
            "Day: 07\n",
            "Year: 2009\n"
          ]
        }
      ]
    },
    {
      "cell_type": "markdown",
      "metadata": {
        "id": "tD0tyoOUKNj8"
      },
      "source": [
        "##Prepreocessing the User Inputs"
      ]
    },
    {
      "cell_type": "code",
      "metadata": {
        "id": "RvWSn8-3X1re"
      },
      "source": [
        "if gender=='Female': gender=0\n",
        "else: gender=1\n",
        "if company=='Service': company=1\n",
        "else: company=0\n",
        "if company=='No': wfh=0\n",
        "else: wfh=1"
      ],
      "execution_count": 18,
      "outputs": []
    },
    {
      "cell_type": "markdown",
      "metadata": {
        "id": "AJOcMgfRKb_9"
      },
      "source": [
        "##Making Prediction"
      ]
    },
    {
      "cell_type": "code",
      "metadata": {
        "id": "9n4HUJDUWgD_"
      },
      "source": [
        "def ValuePredictor(to_predict_list):\n",
        "    to_predict = np.array(to_predict_list).reshape(1, 8)\n",
        "    loaded_model=joblib.load('model.pkl')\n",
        "    result = loaded_model.predict(to_predict)\n",
        "    return result[0]\n",
        "\n",
        "scaler=StandardScaler()\n",
        "def result():\n",
        "        to_predict_list = scaler.fit_transform([[gender,company,hours,wfh,hours,fatigue,month,month]])\n",
        "        return ValuePredictor(to_predict_list)             "
      ],
      "execution_count": 19,
      "outputs": []
    },
    {
      "cell_type": "markdown",
      "metadata": {
        "id": "n9V_w9RHJP9I"
      },
      "source": [
        "##Result"
      ]
    },
    {
      "cell_type": "code",
      "metadata": {
        "id": "a0Z0wkCkbP9c",
        "colab": {
          "base_uri": "https://localhost:8080/"
        },
        "outputId": "5479648d-fee8-40c1-e9f3-7b6359fe53dd"
      },
      "source": [
        "r=result()\n",
        "print(\"%s your Burnout Rate is %.2f%%\"%(name,r*100))"
      ],
      "execution_count": 20,
      "outputs": [
        {
          "output_type": "stream",
          "name": "stdout",
          "text": [
            "Joshita your Burnout Rate is 45.36%\n"
          ]
        }
      ]
    },
    {
      "cell_type": "code",
      "metadata": {
        "id": "dB-AktzSb09f",
        "colab": {
          "base_uri": "https://localhost:8080/"
        },
        "outputId": "56e740ff-db03-41a0-85ea-c99123c4763d"
      },
      "source": [
        "if(r>0.75): \n",
        "  print(\"Your Burnout Rate indicates you are need try and relieve your stress!\")\n",
        "else: \n",
        "  print(\"Your Burnout Rate indicates you good to go!\")"
      ],
      "execution_count": 21,
      "outputs": [
        {
          "output_type": "stream",
          "name": "stdout",
          "text": [
            "Your Burnout Rate indicates you good to go!\n"
          ]
        }
      ]
    }
  ]
}